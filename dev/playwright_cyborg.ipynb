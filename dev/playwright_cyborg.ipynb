{
 "cells": [
  {
   "cell_type": "code",
   "execution_count": 1,
   "metadata": {},
   "outputs": [],
   "source": [
    "from playwright.sync_api import sync_playwright\n",
    "from playwright_stealth import stealth_sync\n",
    "import time\n",
    "import random\n",
    "import pandas as pd\n",
    "import asyncio\n",
    "from playwright.async_api import async_playwright\n",
    "import nest_asyncio\n",
    "nest_asyncio.apply()"
   ]
  },
  {
   "cell_type": "code",
   "execution_count": 2,
   "metadata": {},
   "outputs": [],
   "source": [
    "# Read the CSV file into a DataFrame\n",
    "accounts_df = pd.read_csv('../reference/accounts.csv')\n",
    "\n",
    "# Filter the DataFrame to include only active accounts\n",
    "active_accounts = accounts_df[(accounts_df['email_acc_status'].isnull()) & (accounts_df['acc_status'].isnull()) & (accounts_df['user_agent'].notnull())]\n",
    "\n",
    "# Select a random row from the DataFrame\n",
    "random_account = active_accounts.sample(1).iloc[0]\n",
    "\n",
    "bot_username = random_account['username']\n",
    "user_agent = random_account['user_agent']\n",
    "bot_password = random_account['password']"
   ]
  },
  {
   "cell_type": "code",
   "execution_count": 3,
   "metadata": {},
   "outputs": [
    {
     "ename": "Error",
     "evalue": "It looks like you are using Playwright Sync API inside the asyncio loop.\nPlease use the Async API instead.",
     "output_type": "error",
     "traceback": [
      "\u001b[0;31m---------------------------------------------------------------------------\u001b[0m",
      "\u001b[0;31mError\u001b[0m                                     Traceback (most recent call last)",
      "\u001b[1;32m/Users/adamhunter/Documents/school projs/capstone/dev/playwright_cyborg.ipynb Cell 3\u001b[0m line \u001b[0;36m1\n\u001b[1;32m      <a href='vscode-notebook-cell:/Users/adamhunter/Documents/school%20projs/capstone/dev/playwright_cyborg.ipynb#W6sZmlsZQ%3D%3D?line=7'>8</a>\u001b[0m     stealth_sync(page)\n\u001b[1;32m      <a href='vscode-notebook-cell:/Users/adamhunter/Documents/school%20projs/capstone/dev/playwright_cyborg.ipynb#W6sZmlsZQ%3D%3D?line=8'>9</a>\u001b[0m     \u001b[39mreturn\u001b[39;00m p, browser, page\n\u001b[0;32m---> <a href='vscode-notebook-cell:/Users/adamhunter/Documents/school%20projs/capstone/dev/playwright_cyborg.ipynb#W6sZmlsZQ%3D%3D?line=10'>11</a>\u001b[0m p, browser, page \u001b[39m=\u001b[39m setup(user_agent)\n",
      "\u001b[1;32m/Users/adamhunter/Documents/school projs/capstone/dev/playwright_cyborg.ipynb Cell 3\u001b[0m line \u001b[0;36m4\n\u001b[1;32m      <a href='vscode-notebook-cell:/Users/adamhunter/Documents/school%20projs/capstone/dev/playwright_cyborg.ipynb#W6sZmlsZQ%3D%3D?line=2'>3</a>\u001b[0m \u001b[39mdef\u001b[39;00m \u001b[39msetup\u001b[39m(user_agent):\n\u001b[0;32m----> <a href='vscode-notebook-cell:/Users/adamhunter/Documents/school%20projs/capstone/dev/playwright_cyborg.ipynb#W6sZmlsZQ%3D%3D?line=3'>4</a>\u001b[0m     p \u001b[39m=\u001b[39m sync_playwright()\u001b[39m.\u001b[39;49mstart()\n\u001b[1;32m      <a href='vscode-notebook-cell:/Users/adamhunter/Documents/school%20projs/capstone/dev/playwright_cyborg.ipynb#W6sZmlsZQ%3D%3D?line=4'>5</a>\u001b[0m     browser \u001b[39m=\u001b[39m p\u001b[39m.\u001b[39mchromium\u001b[39m.\u001b[39mlaunch(headless\u001b[39m=\u001b[39m\u001b[39mFalse\u001b[39;00m)\n\u001b[1;32m      <a href='vscode-notebook-cell:/Users/adamhunter/Documents/school%20projs/capstone/dev/playwright_cyborg.ipynb#W6sZmlsZQ%3D%3D?line=5'>6</a>\u001b[0m     context \u001b[39m=\u001b[39m browser\u001b[39m.\u001b[39mnew_context(user_agent\u001b[39m=\u001b[39muser_agent)\n",
      "File \u001b[0;32m~/miniconda3/envs/craigslist-env/lib/python3.9/site-packages/playwright/sync_api/_context_manager.py:84\u001b[0m, in \u001b[0;36mPlaywrightContextManager.start\u001b[0;34m(self)\u001b[0m\n\u001b[1;32m     83\u001b[0m \u001b[39mdef\u001b[39;00m \u001b[39mstart\u001b[39m(\u001b[39mself\u001b[39m) \u001b[39m-\u001b[39m\u001b[39m>\u001b[39m SyncPlaywright:\n\u001b[0;32m---> 84\u001b[0m     \u001b[39mreturn\u001b[39;00m \u001b[39mself\u001b[39;49m\u001b[39m.\u001b[39;49m\u001b[39m__enter__\u001b[39;49m()\n",
      "File \u001b[0;32m~/miniconda3/envs/craigslist-env/lib/python3.9/site-packages/playwright/sync_api/_context_manager.py:47\u001b[0m, in \u001b[0;36mPlaywrightContextManager.__enter__\u001b[0;34m(self)\u001b[0m\n\u001b[1;32m     45\u001b[0m             \u001b[39mself\u001b[39m\u001b[39m.\u001b[39m_own_loop \u001b[39m=\u001b[39m \u001b[39mTrue\u001b[39;00m\n\u001b[1;32m     46\u001b[0m         \u001b[39mif\u001b[39;00m \u001b[39mself\u001b[39m\u001b[39m.\u001b[39m_loop\u001b[39m.\u001b[39mis_running():\n\u001b[0;32m---> 47\u001b[0m             \u001b[39mraise\u001b[39;00m Error(\n\u001b[1;32m     48\u001b[0m \u001b[39m                \u001b[39m\u001b[39m\"\"\"It looks like you are using Playwright Sync API inside the asyncio loop.\u001b[39;00m\n\u001b[1;32m     49\u001b[0m \u001b[39mPlease use the Async API instead.\"\"\"\u001b[39;00m\n\u001b[1;32m     50\u001b[0m             )\n\u001b[1;32m     52\u001b[0m         \u001b[39m# Create a new fiber for the protocol dispatcher. It will be pumping events\u001b[39;00m\n\u001b[1;32m     53\u001b[0m         \u001b[39m# until the end of times. We will pass control to that fiber every time we\u001b[39;00m\n\u001b[1;32m     54\u001b[0m         \u001b[39m# block while waiting for a response.\u001b[39;00m\n\u001b[1;32m     55\u001b[0m         \u001b[39mdef\u001b[39;00m \u001b[39mgreenlet_main\u001b[39m() \u001b[39m-\u001b[39m\u001b[39m>\u001b[39m \u001b[39mNone\u001b[39;00m:\n",
      "\u001b[0;31mError\u001b[0m: It looks like you are using Playwright Sync API inside the asyncio loop.\nPlease use the Async API instead."
     ]
    }
   ],
   "source": [
    "from playwright.sync_api import sync_playwright\n",
    "\n",
    "def setup(user_agent):\n",
    "    p = sync_playwright().start()\n",
    "    browser = p.chromium.launch(headless=False)\n",
    "    context = browser.new_context(user_agent=user_agent)\n",
    "    page = context.new_page()\n",
    "    stealth_sync(page)\n",
    "    return p, browser, page\n",
    "\n",
    "p, browser, page = setup(user_agent)"
   ]
  },
  {
   "cell_type": "code",
   "execution_count": 5,
   "metadata": {},
   "outputs": [
    {
     "name": "stderr",
     "output_type": "stream",
     "text": [
      "/var/folders/53/g51yyrxd1gx8s6s6n03zzjbh0000gn/T/ipykernel_46765/235664713.py:10: RuntimeWarning: coroutine 'Page.goto' was never awaited\n",
      "  page.goto('https://account.proton.me/mail/signup')\n",
      "RuntimeWarning: Enable tracemalloc to get the object allocation traceback\n",
      "/var/folders/53/g51yyrxd1gx8s6s6n03zzjbh0000gn/T/ipykernel_46765/235664713.py:15: RuntimeWarning: coroutine 'Page.fill' was never awaited\n",
      "  page.fill('#email', username_prefix)\n",
      "RuntimeWarning: Enable tracemalloc to get the object allocation traceback\n",
      "/var/folders/53/g51yyrxd1gx8s6s6n03zzjbh0000gn/T/ipykernel_46765/235664713.py:18: RuntimeWarning: coroutine 'Page.fill' was never awaited\n",
      "  page.fill('#password', account['password'])\n",
      "RuntimeWarning: Enable tracemalloc to get the object allocation traceback\n",
      "/var/folders/53/g51yyrxd1gx8s6s6n03zzjbh0000gn/T/ipykernel_46765/235664713.py:20: RuntimeWarning: coroutine 'Page.fill' was never awaited\n",
      "  page.fill('#repeat-password', account['password'])\n",
      "RuntimeWarning: Enable tracemalloc to get the object allocation traceback\n",
      "/var/folders/53/g51yyrxd1gx8s6s6n03zzjbh0000gn/T/ipykernel_46765/235664713.py:23: RuntimeWarning: coroutine 'Page.click' was never awaited\n",
      "  page.click('button[type=\"submit\"]')\n",
      "RuntimeWarning: Enable tracemalloc to get the object allocation traceback\n"
     ]
    },
    {
     "ename": "KeyboardInterrupt",
     "evalue": "",
     "output_type": "error",
     "traceback": [
      "\u001b[0;31m---------------------------------------------------------------------------\u001b[0m",
      "\u001b[0;31mKeyboardInterrupt\u001b[0m                         Traceback (most recent call last)",
      "\u001b[1;32m/Users/adamhunter/Documents/school projs/capstone/dev/playwright_cyborg.ipynb Cell 4\u001b[0m line \u001b[0;36m3\n\u001b[1;32m     <a href='vscode-notebook-cell:/Users/adamhunter/Documents/school%20projs/capstone/dev/playwright_cyborg.ipynb#X12sZmlsZQ%3D%3D?line=30'>31</a>\u001b[0m             \u001b[39m# Write the DataFrame back to the CSV file\u001b[39;00m\n\u001b[1;32m     <a href='vscode-notebook-cell:/Users/adamhunter/Documents/school%20projs/capstone/dev/playwright_cyborg.ipynb#X12sZmlsZQ%3D%3D?line=31'>32</a>\u001b[0m             accounts_df\u001b[39m.\u001b[39mto_csv(\u001b[39m'\u001b[39m\u001b[39m../reference/accounts.csv\u001b[39m\u001b[39m'\u001b[39m, index\u001b[39m=\u001b[39m\u001b[39mFalse\u001b[39;00m)\n\u001b[0;32m---> <a href='vscode-notebook-cell:/Users/adamhunter/Documents/school%20projs/capstone/dev/playwright_cyborg.ipynb#X12sZmlsZQ%3D%3D?line=33'>34</a>\u001b[0m process_accounts(page)\n",
      "\u001b[1;32m/Users/adamhunter/Documents/school projs/capstone/dev/playwright_cyborg.ipynb Cell 4\u001b[0m line \u001b[0;36m1\n\u001b[1;32m      <a href='vscode-notebook-cell:/Users/adamhunter/Documents/school%20projs/capstone/dev/playwright_cyborg.ipynb#X12sZmlsZQ%3D%3D?line=7'>8</a>\u001b[0m \u001b[39mif\u001b[39;00m pd\u001b[39m.\u001b[39misnull(account[\u001b[39m'\u001b[39m\u001b[39memail_acc_status\u001b[39m\u001b[39m'\u001b[39m]):\n\u001b[1;32m      <a href='vscode-notebook-cell:/Users/adamhunter/Documents/school%20projs/capstone/dev/playwright_cyborg.ipynb#X12sZmlsZQ%3D%3D?line=8'>9</a>\u001b[0m     \u001b[39m# Navigate to ProtonMail\u001b[39;00m\n\u001b[1;32m     <a href='vscode-notebook-cell:/Users/adamhunter/Documents/school%20projs/capstone/dev/playwright_cyborg.ipynb#X12sZmlsZQ%3D%3D?line=9'>10</a>\u001b[0m     page\u001b[39m.\u001b[39mgoto(\u001b[39m'\u001b[39m\u001b[39mhttps://account.proton.me/mail/signup\u001b[39m\u001b[39m'\u001b[39m)\n\u001b[0;32m---> <a href='vscode-notebook-cell:/Users/adamhunter/Documents/school%20projs/capstone/dev/playwright_cyborg.ipynb#X12sZmlsZQ%3D%3D?line=10'>11</a>\u001b[0m     time\u001b[39m.\u001b[39;49msleep(\u001b[39m3\u001b[39;49m\u001b[39m+\u001b[39;49m\u001b[39m3\u001b[39;49m\u001b[39m*\u001b[39;49mrandom\u001b[39m.\u001b[39;49mrandom())\n\u001b[1;32m     <a href='vscode-notebook-cell:/Users/adamhunter/Documents/school%20projs/capstone/dev/playwright_cyborg.ipynb#X12sZmlsZQ%3D%3D?line=12'>13</a>\u001b[0m     \u001b[39m# Fill in the 'email' field\u001b[39;00m\n\u001b[1;32m     <a href='vscode-notebook-cell:/Users/adamhunter/Documents/school%20projs/capstone/dev/playwright_cyborg.ipynb#X12sZmlsZQ%3D%3D?line=13'>14</a>\u001b[0m     username_prefix \u001b[39m=\u001b[39m account[\u001b[39m'\u001b[39m\u001b[39musername\u001b[39m\u001b[39m'\u001b[39m]\u001b[39m.\u001b[39msplit(\u001b[39m'\u001b[39m\u001b[39m@\u001b[39m\u001b[39m'\u001b[39m)[\u001b[39m0\u001b[39m]\n",
      "\u001b[0;31mKeyboardInterrupt\u001b[0m: "
     ]
    }
   ],
   "source": [
    "def process_accounts(page):\n",
    "    # Load the accounts data\n",
    "    accounts_df = pd.read_csv('../reference/accounts.csv')\n",
    "\n",
    "    # Loop through the accounts\n",
    "    for index, account in accounts_df.iterrows():\n",
    "        # Check if account status is NaN\n",
    "        if pd.isnull(account['email_acc_status']):\n",
    "            # Navigate to ProtonMail\n",
    "            page.goto('https://account.proton.me/mail/signup')\n",
    "            time.sleep(3+3*random.random())\n",
    "\n",
    "            # Fill in the 'email' field\n",
    "            username_prefix = account['username'].split('@')[0]\n",
    "            page.fill('#email', username_prefix)\n",
    "\n",
    "            # Fill in the 'password' and 'repeat-password' fields\n",
    "            page.fill('#password', account['password'])\n",
    "            time.sleep(3+2*random.random())\n",
    "            page.fill('#repeat-password', account['password'])\n",
    "            time.sleep(2*random.random())\n",
    "            # Submit form\n",
    "            page.click('button[type=\"submit\"]')\n",
    "\n",
    "            # Prompt to continue to next iteration\n",
    "            input(\"Press Enter to continue to next iteration...\")\n",
    "\n",
    "            # Update the 'acc_status' column in the DataFrame\n",
    "            accounts_df.loc[index, 'email_acc_status'] = 1\n",
    "\n",
    "            # Write the DataFrame back to the CSV file\n",
    "            accounts_df.to_csv('../reference/accounts.csv', index=False)\n",
    "\n",
    "process_accounts(page)\n"
   ]
  },
  {
   "cell_type": "code",
   "execution_count": null,
   "metadata": {},
   "outputs": [],
   "source": [
    "def create_linkedin_account(page, username, password):\n",
    "    # Open a new tab\n",
    "    new_tab = context.new_page()\n",
    "\n",
    "    # Navigate to LinkedIn's registration page\n",
    "    new_tab.goto('https://www.linkedin.com/start/join')\n",
    "    \n",
    "    # Fill in the registration form\n",
    "    new_tab.fill('input[name=\"email-address\"]', username)\n",
    "    new_tab.fill('input[name=\"password\"]', password)\n",
    "    \n",
    "    # Submit the form\n",
    "    new_tab.click('button[type=\"submit\"]')\n",
    "\n",
    "    # Wait for a few seconds to allow the page to load\n",
    "    time.sleep(random.randint(5, 10))\n",
    "\n",
    "    # Return the new tab object for further operations\n",
    "    return new_tab\n",
    "\n",
    "new_tab = create_linkedin_account(page, username, password)\n"
   ]
  },
  {
   "cell_type": "code",
   "execution_count": null,
   "metadata": {},
   "outputs": [],
   "source": [
    "def login_linkedin(page, username, password):\n",
    "    page.goto('https://www.linkedin.com/login')\n",
    "    page.fill('input[name=\"session_key\"]', username)\n",
    "    time.sleep(random.randint(5, 10))\n",
    "    page.fill('input[name=\"session_password\"]', password)\n",
    "    page.click('button[type=\"submit\"]')\n",
    "\n",
    "login_linkedin(page, bot_username, bot_password)"
   ]
  },
  {
   "cell_type": "code",
   "execution_count": null,
   "metadata": {},
   "outputs": [],
   "source": [
    "with open('../reference/scraped_profiles.txt', 'r') as file:\n",
    "    scraped_profiles = file.read().split('\\n')\n",
    "\n",
    "with open('../reference/links_to_scrape.txt', 'r') as file:\n",
    "    links_to_scrape = file.read().split('\\n')\n",
    "    \n",
    "links_to_scrape = list(set(links_to_scrape)) # Remove duplicates by converting to set and back to list\n",
    "\n",
    "# Remove any links that are already in scraped_profiles\n",
    "links_to_scrape = [link for link in links_to_scrape if link not in scraped_profiles]\n",
    "\n",
    "print(len(links_to_scrape))\n",
    "\n",
    "with open('../reference/links_to_scrape.txt', 'w') as file:\n",
    "    for link in links_to_scrape:\n",
    "        file.write(\"%s\\n\" % link)\n",
    "\n",
    "with open('../reference/links_to_scrape.txt', 'r') as file:\n",
    "    collected_links = file.read().split('\\n')"
   ]
  },
  {
   "cell_type": "code",
   "execution_count": null,
   "metadata": {},
   "outputs": [],
   "source": [
    "def scrape_all(page, linkedin_urls, num_to_scrape=None):\n",
    "    if num_to_scrape is None:\n",
    "        num_to_scrape = len(linkedin_urls)\n",
    "\n",
    "    # Create a new context with the extra HTTP headers\n",
    "    # The referrer link is now a random page from the search results for \"data analyst\"\n",
    "    random_page = random.randint(2, 100)\n",
    "    context = browser.new_context(extra_http_headers={\n",
    "        'Referer': f'https://www.linkedin.com/search/results/people/?keywords=data%20analyst&page={random_page}&sid=3Ue'\n",
    "    })\n",
    "\n",
    "    # Use the new context to create a new page\n",
    "    page = context.new_page()\n",
    "\n",
    "    for url in linkedin_urls[:num_to_scrape]:\n",
    "        try:\n",
    "            page.goto(url)\n",
    "            print('scraping' + url)\n",
    "            time.sleep(random.randint(10, 30))\n",
    "\n",
    "            # Get the page source and save it as a .txt file\n",
    "            page_source = page.content()\n",
    "            # Extract the profile name from the member link\n",
    "            profile_name = url.rstrip('/').split('/')[-1]\n",
    "            # Use the profile name to name the .txt file\n",
    "            with open(f'../data/{profile_name}_page_source.txt', 'w') as f:\n",
    "                f.write(page_source)\n",
    "\n",
    "            # Check if 'sign in' is in the page title\n",
    "            if 'sign in' in page.title().lower():\n",
    "                # If 'sign in' is in the title, abort the loop\n",
    "                break\n",
    "\n",
    "        except Exception as e:\n",
    "            print(f\"Error: {e}\")\n",
    "\n",
    "    # Close the page and context when done\n",
    "    page.close()\n",
    "    context.close()\n",
    "\n",
    "\n",
    "\n",
    "scrape_all(page, linkedin_urls, num_to_scrape=50)"
   ]
  }
 ],
 "metadata": {
  "kernelspec": {
   "display_name": "craigslist-env",
   "language": "python",
   "name": "python3"
  },
  "language_info": {
   "codemirror_mode": {
    "name": "ipython",
    "version": 3
   },
   "file_extension": ".py",
   "mimetype": "text/x-python",
   "name": "python",
   "nbconvert_exporter": "python",
   "pygments_lexer": "ipython3",
   "version": "3.9.16"
  }
 },
 "nbformat": 4,
 "nbformat_minor": 2
}
