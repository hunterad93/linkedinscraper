{
 "cells": [
  {
   "cell_type": "code",
   "execution_count": 1,
   "metadata": {},
   "outputs": [],
   "source": [
    "from selenium import webdriver\n",
    "from selenium.webdriver.chrome.options import Options\n",
    "from selenium.webdriver.chrome.service import Service\n",
    "from webdriver_manager.chrome import ChromeDriverManager\n",
    "from selenium.webdriver.common.by import By\n",
    "from selenium.webdriver.support.ui import WebDriverWait\n",
    "from selenium.webdriver.support import expected_conditions as EC\n",
    "from selenium.webdriver.common.action_chains import ActionChains\n",
    "from selenium.common.exceptions import NoSuchElementException, TimeoutException, NoSuchFrameException\n",
    "from selenium.webdriver.common.keys import Keys\n",
    "import subprocess\n",
    "import re\n",
    "import os\n",
    "import glob\n",
    "import pandas as pd\n",
    "import time\n",
    "from time import sleep\n",
    "import random\n",
    "import pdb"
   ]
  },
  {
   "cell_type": "code",
   "execution_count": 2,
   "metadata": {},
   "outputs": [],
   "source": [
    "def create_driver(agent=\"Mozilla/5.0 (Macintosh; Intel Mac OS X 10_15_7) AppleWebKit/605.1.15 (KHTML, like Gecko) Version/14.1.2 Safari/605.1.15\"):\n",
    "    try:\n",
    "        print('driver started')\n",
    "        chrome_options = Options()\n",
    "        chrome_options.add_argument(f\"user-agent={agent}\")\n",
    "        driver = webdriver.Chrome(service=Service(ChromeDriverManager().install()), options=chrome_options)\n",
    "        driver.maximize_window() #max size for consistency with element names\n",
    "        return driver\n",
    "    except Exception as e:\n",
    "        print(f\"Error: {e}\")"
   ]
  },
  {
   "cell_type": "code",
   "execution_count": 3,
   "metadata": {},
   "outputs": [
    {
     "name": "stdout",
     "output_type": "stream",
     "text": [
      "driver started\n",
      "driver started\n"
     ]
    }
   ],
   "source": [
    "def process_accounts():\n",
    "    # Load the accounts data\n",
    "    accounts_df = pd.read_csv('../reference/accounts.csv')\n",
    "\n",
    "    # Loop through the accounts\n",
    "    for index, account in accounts_df.iterrows():\n",
    "        # Check if account status is NaN\n",
    "        if pd.isnull(account['email_acc_status']):\n",
    "            # Start a new session\n",
    "            driver = create_driver(account['user_agent'])\n",
    "\n",
    "            # Navigate to ProtonMail\n",
    "            driver.get('https://account.proton.me/mail/signup')\n",
    "            sleep(3+3*random.random())\n",
    "            # Switch to iframe 1 to interact with the 'email' field\n",
    "            driver.switch_to.frame(1)\n",
    "            username_field = WebDriverWait(driver, 10).until(EC.element_to_be_clickable((By.ID, 'email')))\n",
    "            # Extract the part of the username before the '@'\n",
    "            username_prefix = account['username'].split('@')[0]\n",
    "            # Send the username one character at a time with a random delay between each\n",
    "            for character in username_prefix:\n",
    "                username_field.send_keys(character)\n",
    "                sleep(random.random())\n",
    "            # Switch back to the default content to interact with the 'password' and 'repeat-password' fields\n",
    "            driver.switch_to.default_content()\n",
    "\n",
    "            password_field = WebDriverWait(driver, 10).until(EC.element_to_be_clickable((By.ID, 'password')))\n",
    "            password_field.send_keys(account['password'])\n",
    "            sleep(1+2*random.random())\n",
    "\n",
    "            repeat_password_field = WebDriverWait(driver, 10).until(EC.element_to_be_clickable((By.ID, 'repeat-password')))\n",
    "            repeat_password_field.send_keys(account['password'])\n",
    "\n",
    "            # Submit form\n",
    "            account_create = WebDriverWait(driver, 10).until(EC.element_to_be_clickable((By.CSS_SELECTOR, 'button[type=\"submit\"]')))\n",
    "            account_create.click()\n",
    "\n",
    "            # Prompt to continue to next iteration\n",
    "            input(\"Press Enter to continue to next iteration...\")\n",
    "\n",
    "            # Update the 'acc_status' column in the DataFrame\n",
    "            accounts_df.loc[index, 'email_acc_status'] = 1\n",
    "\n",
    "            # Write the DataFrame back to the CSV file\n",
    "            accounts_df.to_csv('../reference/accounts.csv', index=False)\n",
    "\n",
    "process_accounts()"
   ]
  }
 ],
 "metadata": {
  "kernelspec": {
   "display_name": "craigslist-env",
   "language": "python",
   "name": "python3"
  },
  "language_info": {
   "codemirror_mode": {
    "name": "ipython",
    "version": 3
   },
   "file_extension": ".py",
   "mimetype": "text/x-python",
   "name": "python",
   "nbconvert_exporter": "python",
   "pygments_lexer": "ipython3",
   "version": "3.9.16"
  }
 },
 "nbformat": 4,
 "nbformat_minor": 2
}
